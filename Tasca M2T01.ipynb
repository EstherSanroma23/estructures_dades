{
 "cells": [
  {
   "cell_type": "markdown",
   "id": "e09161c8",
   "metadata": {},
   "source": [
    "## EXERCICI 1\n",
    "### Crea una llista que agrupi els mesos de l’any en trimestres (1T: gener, febrer i març; 2T: abril, maig, juny...), és a dir, una llista amb 4 llistes dins."
   ]
  },
  {
   "cell_type": "code",
   "execution_count": 208,
   "id": "c6e27c6d",
   "metadata": {},
   "outputs": [
    {
     "name": "stdout",
     "output_type": "stream",
     "text": [
      "[['Gener', 'Febrer', 'Març'], ['Abril', 'Maig', 'Juny'], ['Juliol', 'Agost', 'Setembre'], ['Octubre', 'Novembre', 'Decembre']]\n"
     ]
    }
   ],
   "source": [
    "T1= [\"Gener\",\"Febrer\",\"Març\"]\n",
    "T2= [\"Abril\", \"Maig\", \"Juny\"]\n",
    "T3= [\"Juliol\", \"Agost\", \"Setembre\"]\n",
    "T4= [\"Octubre\", \"Novembre\", \"Decembre\"]\n",
    "list= [T1,T2,T3,T4]\n",
    "print (list)"
   ]
  },
  {
   "cell_type": "markdown",
   "id": "1d4dd15c",
   "metadata": {},
   "source": [
    "## EXERCICI 2\n",
    "### Crea un codi que et permeti accedir a:\n",
    "\n",
    "El segon mes del primer trimestre.\n",
    "Els mesos del primer trimestre.\n",
    "Setembre i octubre."
   ]
  },
  {
   "cell_type": "code",
   "execution_count": 7,
   "id": "7ad209bc",
   "metadata": {},
   "outputs": [
    {
     "name": "stdout",
     "output_type": "stream",
     "text": [
      "Febrer\n"
     ]
    }
   ],
   "source": [
    "print(T1 [1])"
   ]
  },
  {
   "cell_type": "code",
   "execution_count": 8,
   "id": "23b6a9ee",
   "metadata": {},
   "outputs": [
    {
     "name": "stdout",
     "output_type": "stream",
     "text": [
      "['Gener', 'Febrer', 'Març']\n"
     ]
    }
   ],
   "source": [
    "print (T1)"
   ]
  },
  {
   "cell_type": "code",
   "execution_count": 9,
   "id": "d6da8176",
   "metadata": {},
   "outputs": [
    {
     "name": "stdout",
     "output_type": "stream",
     "text": [
      "Setembre Octubre\n"
     ]
    }
   ],
   "source": [
    "print(T3 [2], T4 [0])"
   ]
  },
  {
   "cell_type": "markdown",
   "id": "c0824c22",
   "metadata": {},
   "source": [
    "## EXERCICI 3\n",
    "### Crea una llista amb nombres desordenats i respon a les següents preguntes:"
   ]
  },
  {
   "cell_type": "code",
   "execution_count": 20,
   "id": "4eb92115",
   "metadata": {},
   "outputs": [],
   "source": [
    "list =[2,1,3,6,5]"
   ]
  },
  {
   "cell_type": "markdown",
   "id": "ad1bb424",
   "metadata": {},
   "source": [
    "#### Quants números hi ha?"
   ]
  },
  {
   "cell_type": "code",
   "execution_count": 18,
   "id": "27b58f67",
   "metadata": {},
   "outputs": [
    {
     "name": "stdout",
     "output_type": "stream",
     "text": [
      "5\n"
     ]
    }
   ],
   "source": [
    "print(len(list))"
   ]
  },
  {
   "cell_type": "markdown",
   "id": "84df25bc",
   "metadata": {},
   "source": [
    "#### Quantes vegades apareix el número 3."
   ]
  },
  {
   "cell_type": "code",
   "execution_count": 30,
   "id": "ba298e5b",
   "metadata": {},
   "outputs": [
    {
     "data": {
      "text/plain": [
       "1"
      ]
     },
     "execution_count": 30,
     "metadata": {},
     "output_type": "execute_result"
    }
   ],
   "source": [
    "list.count(3)"
   ]
  },
  {
   "cell_type": "markdown",
   "id": "9200547d",
   "metadata": {},
   "source": [
    "#### Quantes vegades apareixen els nombres 3 i 4?"
   ]
  },
  {
   "cell_type": "code",
   "execution_count": 24,
   "id": "9ad43f35",
   "metadata": {},
   "outputs": [
    {
     "data": {
      "text/plain": [
       "0"
      ]
     },
     "execution_count": 24,
     "metadata": {},
     "output_type": "execute_result"
    }
   ],
   "source": [
    "list.count(4)"
   ]
  },
  {
   "cell_type": "code",
   "execution_count": 36,
   "id": "b4538b8f",
   "metadata": {},
   "outputs": [
    {
     "data": {
      "text/plain": [
       "1"
      ]
     },
     "execution_count": 36,
     "metadata": {},
     "output_type": "execute_result"
    }
   ],
   "source": [
    "list.count(3)+list.count(4)"
   ]
  },
  {
   "cell_type": "markdown",
   "id": "afe06aab",
   "metadata": {},
   "source": [
    "#### Quin és el número més gran?"
   ]
  },
  {
   "cell_type": "code",
   "execution_count": 40,
   "id": "5c2d7d53",
   "metadata": {},
   "outputs": [
    {
     "name": "stdout",
     "output_type": "stream",
     "text": [
      "6\n"
     ]
    }
   ],
   "source": [
    "print(max(list))"
   ]
  },
  {
   "cell_type": "markdown",
   "id": "1f154a5c",
   "metadata": {},
   "source": [
    "#### Quins són els 3 números més petits?"
   ]
  },
  {
   "cell_type": "code",
   "execution_count": 2,
   "id": "e39ef4f4",
   "metadata": {},
   "outputs": [
    {
     "name": "stdout",
     "output_type": "stream",
     "text": [
      "1\n",
      "2\n",
      "3\n"
     ]
    }
   ],
   "source": [
    "list =[2,1,3,6,5]\n",
    "list.sort()\n",
    "print(list [0])\n",
    "print(list [1])\n",
    "print(list [2])"
   ]
  },
  {
   "cell_type": "markdown",
   "id": "194e4a41",
   "metadata": {},
   "source": [
    "#### Quin és el rang d’aquesta llista?"
   ]
  },
  {
   "cell_type": "code",
   "execution_count": 34,
   "id": "ae34d44f",
   "metadata": {},
   "outputs": [
    {
     "name": "stdout",
     "output_type": "stream",
     "text": [
      "range(0, 5)\n"
     ]
    }
   ],
   "source": [
    "list =[2,1,3,6,5]\n",
    "x=range(5)\n",
    "print(x)\n"
   ]
  },
  {
   "cell_type": "markdown",
   "id": "373c4673",
   "metadata": {},
   "source": [
    "### Exercici 4\n",
    "#### Crea un diccionari de la següent forma i respon a les preguntes:\n",
    "\n",
    "compra = { \"Pomes\" : {\"Qty\": 5, \"€\": 0.42}, \"Peres\" : {\"Qty\": 3, \"€\": 0.66} }"
   ]
  },
  {
   "cell_type": "code",
   "execution_count": 21,
   "id": "0cf56d47",
   "metadata": {},
   "outputs": [
    {
     "name": "stdout",
     "output_type": "stream",
     "text": [
      "{'Pomes': {'Qty': 5, '€': 0.42}, 'Peres': {'Qty': 3, '€': 0.66}}\n"
     ]
    }
   ],
   "source": [
    "dictcompra= { \"Pomes\" : {\"Qty\": 5, \"€\": 0.42} ,\"Peres\" : {\"Qty\": 3, \"€\": 0.66} }\n",
    "print(dictcompra)\n"
   ]
  },
  {
   "cell_type": "markdown",
   "id": "f1c1c9c9",
   "metadata": {},
   "source": [
    "#### Afegeix alguna fruita més"
   ]
  },
  {
   "cell_type": "code",
   "execution_count": 22,
   "id": "291fe8f7",
   "metadata": {},
   "outputs": [
    {
     "name": "stdout",
     "output_type": "stream",
     "text": [
      "{'Pomes': {'Qty': 5, '€': 0.42}, 'Peres': {'Qty': 3, '€': 0.66}, 'Platans': {'Qty': 3, '€': 0.5}}\n"
     ]
    }
   ],
   "source": [
    "dictcompra.update ( {\"Platans\" : {\"Qty\": 3, \"€\": 0.50}})\n",
    "print(dictcompra)"
   ]
  },
  {
   "cell_type": "markdown",
   "id": "9f076f98",
   "metadata": {},
   "source": [
    "#### Quant han costat les peres en total?"
   ]
  },
  {
   "cell_type": "code",
   "execution_count": 24,
   "id": "5c3df913",
   "metadata": {},
   "outputs": [
    {
     "data": {
      "text/plain": [
       "1.98"
      ]
     },
     "execution_count": 24,
     "metadata": {},
     "output_type": "execute_result"
    }
   ],
   "source": [
    "dictcompra [\"Peres\"][\"Qty\"]*dictcompra [\"Peres\"][\"€\"]\n"
   ]
  },
  {
   "cell_type": "markdown",
   "id": "51ce71d8",
   "metadata": {},
   "source": [
    "#### Quantes fruites hem comprat en total?"
   ]
  },
  {
   "cell_type": "code",
   "execution_count": 25,
   "id": "f8b816e4",
   "metadata": {},
   "outputs": [
    {
     "data": {
      "text/plain": [
       "11"
      ]
     },
     "execution_count": 25,
     "metadata": {},
     "output_type": "execute_result"
    }
   ],
   "source": [
    "dictcompra [\"Pomes\"][\"Qty\"]+dictcompra [\"Peres\"][\"Qty\"]+dictcompra [\"Platans\"][\"Qty\"]"
   ]
  },
  {
   "cell_type": "markdown",
   "id": "a1447beb",
   "metadata": {},
   "source": [
    "#### Quina és la fruita més cara?"
   ]
  },
  {
   "cell_type": "code",
   "execution_count": 26,
   "id": "bdbdf120",
   "metadata": {},
   "outputs": [
    {
     "data": {
      "text/plain": [
       "0.66"
      ]
     },
     "execution_count": 26,
     "metadata": {},
     "output_type": "execute_result"
    }
   ],
   "source": [
    "max(dictcompra [\"Pomes\"][\"€\"],dictcompra [\"Peres\"][\"€\"], dictcompra[\"Platans\"][\"€\"])\n",
    "\n"
   ]
  },
  {
   "cell_type": "code",
   "execution_count": 204,
   "id": "4ac7d38e",
   "metadata": {},
   "outputs": [
    {
     "name": "stdout",
     "output_type": "stream",
     "text": [
      "Peres\n"
     ]
    }
   ],
   "source": [
    "FC= max(dictcompra.keys(), \n",
    "key=lambda k:dictcompra[k][\"€\"] )\n",
    "print (FC)"
   ]
  },
  {
   "cell_type": "code",
   "execution_count": null,
   "id": "6703c650",
   "metadata": {},
   "outputs": [],
   "source": []
  }
 ],
 "metadata": {
  "kernelspec": {
   "display_name": "Python 3 (ipykernel)",
   "language": "python",
   "name": "python3"
  },
  "language_info": {
   "codemirror_mode": {
    "name": "ipython",
    "version": 3
   },
   "file_extension": ".py",
   "mimetype": "text/x-python",
   "name": "python",
   "nbconvert_exporter": "python",
   "pygments_lexer": "ipython3",
   "version": "3.9.12"
  }
 },
 "nbformat": 4,
 "nbformat_minor": 5
}
